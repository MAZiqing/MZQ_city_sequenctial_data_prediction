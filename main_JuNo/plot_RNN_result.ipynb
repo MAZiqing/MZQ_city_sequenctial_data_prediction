{
 "cells": [
  {
   "cell_type": "code",
   "execution_count": 1,
   "metadata": {},
   "outputs": [],
   "source": [
    "import os \n",
    "import sys \n",
    "sys.path.append('..')\n",
    "import pandas as pd\n",
    "from matplotlib import pyplot as plt\n",
    "from pandas.plotting import register_matplotlib_converters\n",
    "register_matplotlib_converters()"
   ]
  },
  {
   "cell_type": "markdown",
   "metadata": {},
   "source": [
    "## 画出训练曲线"
   ]
  },
  {
   "cell_type": "code",
   "execution_count": 2,
   "metadata": {},
   "outputs": [],
   "source": [
    "# df = pd.read_csv('../result/LSTM_result_file.csv')\n",
    "# df = pd.read_csv('../result/ANN_result_file.csv')\n",
    "# df = pd.read_csv('../result/one_LSTM_result_file.csv')\n",
    "# df = pd.read_csv('../result/LSTM_1D.csv')\n",
    "df = pd.read_csv('../result/EDLSTM_nD.csv')"
   ]
  },
  {
   "cell_type": "code",
   "execution_count": 3,
   "metadata": {},
   "outputs": [
    {
     "data": {
      "text/html": [
       "<div>\n",
       "<style scoped>\n",
       "    .dataframe tbody tr th:only-of-type {\n",
       "        vertical-align: middle;\n",
       "    }\n",
       "\n",
       "    .dataframe tbody tr th {\n",
       "        vertical-align: top;\n",
       "    }\n",
       "\n",
       "    .dataframe thead th {\n",
       "        text-align: right;\n",
       "    }\n",
       "</style>\n",
       "<table border=\"1\" class=\"dataframe\">\n",
       "  <thead>\n",
       "    <tr style=\"text-align: right;\">\n",
       "      <th></th>\n",
       "      <th>start_time</th>\n",
       "      <th>model_name</th>\n",
       "      <th>model_pkl_path</th>\n",
       "      <th>device</th>\n",
       "      <th>learning_rate</th>\n",
       "      <th>batch size</th>\n",
       "      <th>encoder_sequence_length</th>\n",
       "      <th>decoder_sequence_length</th>\n",
       "      <th>best_train_l1_loss</th>\n",
       "      <th>best_train_mse_loss</th>\n",
       "      <th>best_valid_l1_loss</th>\n",
       "      <th>best_valid_mse_loss</th>\n",
       "      <th>epoch_for_best_valid_loss</th>\n",
       "      <th>train_mse_curve</th>\n",
       "      <th>valid_mse_curve</th>\n",
       "    </tr>\n",
       "  </thead>\n",
       "  <tbody>\n",
       "    <tr>\n",
       "      <td>14</td>\n",
       "      <td>2019-11-04 14:18:40.293903</td>\n",
       "      <td>EDLSTM_nD</td>\n",
       "      <td>../rnn_model/saved_pkl_model/EDLSTM_nD.pkl</td>\n",
       "      <td>cuda:0</td>\n",
       "      <td>0.00003</td>\n",
       "      <td>32.0</td>\n",
       "      <td>40.0</td>\n",
       "      <td>4.0</td>\n",
       "      <td>1000.00000</td>\n",
       "      <td>1000.000000</td>\n",
       "      <td>1000.000000</td>\n",
       "      <td>1000.000000</td>\n",
       "      <td>0.0</td>\n",
       "      <td>[1, 2, 3]</td>\n",
       "      <td>[1, 2, 3]</td>\n",
       "    </tr>\n",
       "    <tr>\n",
       "      <td>15</td>\n",
       "      <td>2019-11-04 14:19:18.897834</td>\n",
       "      <td>EDLSTM_nD</td>\n",
       "      <td>../rnn_model/saved_pkl_model/EDLSTM_nD.pkl</td>\n",
       "      <td>cuda:0</td>\n",
       "      <td>0.00003</td>\n",
       "      <td>32.0</td>\n",
       "      <td>40.0</td>\n",
       "      <td>4.0</td>\n",
       "      <td>1000.00000</td>\n",
       "      <td>1000.000000</td>\n",
       "      <td>1000.000000</td>\n",
       "      <td>1000.000000</td>\n",
       "      <td>0.0</td>\n",
       "      <td>[1, 2, 3]</td>\n",
       "      <td>[1, 2, 3]</td>\n",
       "    </tr>\n",
       "    <tr>\n",
       "      <td>16</td>\n",
       "      <td>2019-11-04 14:20:08.094472</td>\n",
       "      <td>EDLSTM_nD</td>\n",
       "      <td>../rnn_model/saved_pkl_model/EDLSTM_nD.pkl</td>\n",
       "      <td>cuda:0</td>\n",
       "      <td>0.00003</td>\n",
       "      <td>32.0</td>\n",
       "      <td>40.0</td>\n",
       "      <td>4.0</td>\n",
       "      <td>0.04678</td>\n",
       "      <td>0.003682</td>\n",
       "      <td>0.068754</td>\n",
       "      <td>0.008138</td>\n",
       "      <td>39.0</td>\n",
       "      <td>[0.09023906811783018, 0.030307055075559045, 0....</td>\n",
       "      <td>[0.05763309996794252, 0.02368042344117866, 0.0...</td>\n",
       "    </tr>\n",
       "  </tbody>\n",
       "</table>\n",
       "</div>"
      ],
      "text/plain": [
       "                    start_time model_name  \\\n",
       "14  2019-11-04 14:18:40.293903  EDLSTM_nD   \n",
       "15  2019-11-04 14:19:18.897834  EDLSTM_nD   \n",
       "16  2019-11-04 14:20:08.094472  EDLSTM_nD   \n",
       "\n",
       "                                model_pkl_path  device  learning_rate  \\\n",
       "14  ../rnn_model/saved_pkl_model/EDLSTM_nD.pkl  cuda:0        0.00003   \n",
       "15  ../rnn_model/saved_pkl_model/EDLSTM_nD.pkl  cuda:0        0.00003   \n",
       "16  ../rnn_model/saved_pkl_model/EDLSTM_nD.pkl  cuda:0        0.00003   \n",
       "\n",
       "    batch size  encoder_sequence_length  decoder_sequence_length  \\\n",
       "14        32.0                     40.0                      4.0   \n",
       "15        32.0                     40.0                      4.0   \n",
       "16        32.0                     40.0                      4.0   \n",
       "\n",
       "    best_train_l1_loss  best_train_mse_loss  best_valid_l1_loss  \\\n",
       "14          1000.00000          1000.000000         1000.000000   \n",
       "15          1000.00000          1000.000000         1000.000000   \n",
       "16             0.04678             0.003682            0.068754   \n",
       "\n",
       "    best_valid_mse_loss  epoch_for_best_valid_loss  \\\n",
       "14          1000.000000                        0.0   \n",
       "15          1000.000000                        0.0   \n",
       "16             0.008138                       39.0   \n",
       "\n",
       "                                      train_mse_curve  \\\n",
       "14                                          [1, 2, 3]   \n",
       "15                                          [1, 2, 3]   \n",
       "16  [0.09023906811783018, 0.030307055075559045, 0....   \n",
       "\n",
       "                                      valid_mse_curve  \n",
       "14                                          [1, 2, 3]  \n",
       "15                                          [1, 2, 3]  \n",
       "16  [0.05763309996794252, 0.02368042344117866, 0.0...  "
      ]
     },
     "execution_count": 3,
     "metadata": {},
     "output_type": "execute_result"
    }
   ],
   "source": [
    "df.tail(3)"
   ]
  },
  {
   "cell_type": "code",
   "execution_count": 4,
   "metadata": {},
   "outputs": [],
   "source": [
    "train_curve = df['train_mse_curve'].iloc[-1]\n",
    "valid_curve = df['valid_mse_curve'].iloc[-1]\n",
    "train_curve = list(map(float, train_curve[1: -1].split(',')))\n",
    "valid_curve = list(map(float, valid_curve[1: -1].split(',')))"
   ]
  },
  {
   "cell_type": "code",
   "execution_count": 5,
   "metadata": {},
   "outputs": [
    {
     "data": {
      "image/png": "[encoded data removed]",
      "text/plain": [
       "<Figure size 432x288 with 1 Axes>"
      ]
     },
     "metadata": {},
     "output_type": "display_data"
    }
   ],
   "source": [
    "plt.figure(facecolor='w')\n",
    "plt.plot(train_curve[:100])\n",
    "plt.plot(valid_curve[:100])\n",
    "plt.legend(['train', 'valid'])\n",
    "plt.show()"
   ]
  },
  {
   "cell_type": "markdown",
   "metadata": {},
   "source": [
    "## 探究模型效果"
   ]
  },
  {
   "cell_type": "code",
   "execution_count": 6,
   "metadata": {},
   "outputs": [],
   "source": [
    "import sys\n",
    "sys.path.append('..')\n",
    "import torch\n",
    "from datetime import datetime\n",
    "from torch.utils.data import DataLoader\n",
    "from src.py_dataset import GpuDataset\n",
    "from matplotlib import pyplot as plt"
   ]
  },
  {
   "cell_type": "code",
   "execution_count": 43,
   "metadata": {},
   "outputs": [
    {
     "name": "stdout",
     "output_type": "stream",
     "text": [
      "dataset prepared !\n"
     ]
    }
   ],
   "source": [
    "# model = torch.load('../rnn_model/saved_pkl_model/EDLSTM.pkl', map_location='cpu')\n",
    "# model = torch.load('../rnn_model/saved_pkl_model/ANN.pkl', map_location='cpu')\n",
    "# model = torch.load('../rnn_model/saved_pkl_model/one_LSTM.pkl', map_location='cpu')\n",
    "# model = torch.load('../rnn_model/saved_pkl_model/LSTM_1D.pkl', map_location='cpu')\n",
    "model = torch.load('../rnn_model/saved_pkl_model/EDLSTM_nD.pkl', map_location='cpu')\n",
    "\n",
    "dataset_path = '../Dataset/3bs_8q_4p_dataset_washed.csv'\n",
    "dataset = GpuDataset('valid', dataset_path, 40, 4)\n",
    "dataloader = DataLoader(dataset,\n",
    "                        batch_size=2,\n",
    "                        shuffle=False)\n",
    "data = dataset.data"
   ]
  },
  {
   "cell_type": "code",
   "execution_count": 44,
   "metadata": {},
   "outputs": [
    {
     "data": {
      "text/plain": [
       "count    4493.000000\n",
       "mean        0.402748\n",
       "std         0.265059\n",
       "min         0.000000\n",
       "25%         0.119617\n",
       "50%         0.468900\n",
       "75%         0.612440\n",
       "max         1.000000\n",
       "Name: out_pressure, dtype: float64"
      ]
     },
     "execution_count": 44,
     "metadata": {},
     "output_type": "execute_result"
    }
   ],
   "source": [
    "data['out_pressure'].describe()"
   ]
  },
  {
   "cell_type": "code",
   "execution_count": 55,
   "metadata": {},
   "outputs": [],
   "source": [
    "output_list = []\n",
    "for i, (input_p, input_time, label_p, decoder_time) in enumerate(dataloader):\n",
    "#     print(\\r, i, end='')\n",
    "    outputs_p = model(input_p, input_time, label_p, decoder_time)  # torch.Size([64, 10, 9])\n",
    "#     outputs_p = model(input_p, input_time)\n",
    "    output_list += [outputs_p[0, -1].detach().numpy(),\n",
    "                    outputs_p[1, -1].detach().numpy()]\n",
    "    if i > 2100:\n",
    "        break\n",
    "\n",
    "# # 多步预测\n",
    "# output_list = []\n",
    "# output_list_30min = []\n",
    "# label_list = []\n",
    "# for i, (input_p_q, input_time, label_p, decoder_time) in enumerate(dataloader):\n",
    "#     label_list += [label_p[:,43]]\n",
    "#     for j in range(0, 4):\n",
    "#         outputs_p = model(input_p_q, input_time, label_p, decoder_time)  # torch.Size([64, 10, 9])\n",
    "#         label_p[:, 0:39] = label_p[:,1:40]\n",
    "#         label_p[:, 39] = outputs_p.squeeze(2)[:,-1]\n",
    "#         if j == 0:\n",
    "#             output_list_30min += [outputs_p[0, -1, :].detach().numpy()]    \n",
    "#         if j == 3:\n",
    "#             output_list += [outputs_p[0, -1, :].detach().numpy()]\n",
    "# #     if i > 1500:\n",
    "# #         break"
   ]
  },
  {
   "cell_type": "code",
   "execution_count": 56,
   "metadata": {},
   "outputs": [],
   "source": [
    "data['out_pressure_pred'] = 0\n",
    "data['out_pressure_pred'].iloc[:len(output_list)] = output_list\n",
    "data['out_pressure_pred'] = data['out_pressure_pred'].copy().shift(40+4)\n",
    "# data['datetime'] = data['datetime'].apply(str_to_datetime)"
   ]
  },
  {
   "cell_type": "code",
   "execution_count": 57,
   "metadata": {},
   "outputs": [
    {
     "data": {
      "text/plain": [
       "4204"
      ]
     },
     "execution_count": 57,
     "metadata": {},
     "output_type": "execute_result"
    }
   ],
   "source": [
    "len(output_list)"
   ]
  },
  {
   "cell_type": "code",
   "execution_count": 58,
   "metadata": {},
   "outputs": [
    {
     "data": {
      "text/plain": [
       "(4493, 28)"
      ]
     },
     "execution_count": 58,
     "metadata": {},
     "output_type": "execute_result"
    }
   ],
   "source": [
    "data.shape"
   ]
  },
  {
   "cell_type": "code",
   "execution_count": 59,
   "metadata": {},
   "outputs": [
    {
     "data": {
      "text/plain": [
       "torch.Size([2, 4, 1])"
      ]
     },
     "execution_count": 59,
     "metadata": {},
     "output_type": "execute_result"
    }
   ],
   "source": [
    "outputs_p.shape"
   ]
  },
  {
   "cell_type": "code",
   "execution_count": 60,
   "metadata": {},
   "outputs": [
    {
     "name": "stdout",
     "output_type": "stream",
     "text": [
      "fig_rewrited !\n"
     ]
    },
    {
     "data": {
      "image/png": "[encoded data removed]",
      "text/plain": [
       "<Figure size 1080x216 with 1 Axes>"
      ]
     },
     "metadata": {},
     "output_type": "display_data"
    }
   ],
   "source": [
    "plt.figure(figsize=(15,3), facecolor='w')\n",
    "plt.plot(data['datetime'], data['out_pressure'])\n",
    "plt.plot(data['datetime'], data['out_pressure_pred'])\n",
    "plt.xlim([datetime(2019,1,1), datetime(2019, 1, 10)])\n",
    "fig_path = '../result/figures/' + model.model_name + '.png'\n",
    "print(fig_path)\n",
    "if not os.path.exists(fig_path):\n",
    "    plt.savefig(fig_path, format='png',dpi=1000)\n",
    "    print('fig_svaed !')\n",
    "else:\n",
    "    plt.savefig(fig_path, format='png',dpi=1000)\n",
    "    print('fig_rewrited !')\n",
    "# plt.title()\n",
    "plt.show()"
   ]
  },
  {
   "cell_type": "code",
   "execution_count": 61,
   "metadata": {},
   "outputs": [
    {
     "name": "stderr",
     "output_type": "stream",
     "text": [
      "G:\\Anaconda\\envs\\pytorch_env\\lib\\site-packages\\ipykernel_launcher.py:8: RuntimeWarning: divide by zero encountered in true_divide\n",
      "  \n"
     ]
    }
   ],
   "source": [
    "from sklearn import metrics\n",
    "import numpy as np\n",
    "from sklearn import preprocessing\n",
    "def eval_metrics(y_true, y_pred):\n",
    "    metrics_dict = dict()\n",
    "    metrics_dict['MAE'] = metrics.mean_absolute_error(y_true, y_pred)\n",
    "    metrics_dict['MSE'] = metrics.mean_squared_error(y_true, y_pred)\n",
    "    metrics_dict['MAPE'] = np.mean(np.true_divide(np.abs(y_true-y_pred), y_true))\n",
    "    return metrics_dict\n",
    "y_pred = data['out_pressure_pred'].iloc[48:].values\n",
    "y_true = data['out_pressure'].iloc[48:].values \n",
    "eval_dict = eval_metrics(y_true, y_pred)"
   ]
  },
  {
   "cell_type": "code",
   "execution_count": 62,
   "metadata": {},
   "outputs": [
    {
     "data": {
      "text/plain": [
       "{'MAE': 0.10890863721923678, 'MSE': 0.030366688337182892, 'MAPE': inf}"
      ]
     },
     "execution_count": 62,
     "metadata": {},
     "output_type": "execute_result"
    }
   ],
   "source": [
    "eval_dict"
   ]
  },
  {
   "cell_type": "code",
   "execution_count": null,
   "metadata": {},
   "outputs": [],
   "source": []
  }
 ],
 "metadata": {
  "kernelspec": {
   "display_name": "Python 3",
   "language": "python",
   "name": "python3"
  },
  "language_info": {
   "codemirror_mode": {
    "name": "ipython",
    "version": 3
   },
   "file_extension": ".py",
   "mimetype": "text/x-python",
   "name": "python",
   "nbconvert_exporter": "python",
   "pygments_lexer": "ipython3",
   "version": "3.7.3"
  }
 },
 "nbformat": 4,
 "nbformat_minor": 2
}
