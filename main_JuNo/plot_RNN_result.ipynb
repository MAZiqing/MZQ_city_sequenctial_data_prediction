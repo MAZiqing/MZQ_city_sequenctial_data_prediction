{
 "cells": [
  {
   "cell_type": "code",
   "execution_count": 7,
   "metadata": {},
   "outputs": [],
   "source": [
    "import os \n",
    "import sys \n",
    "sys.path.append('..')\n",
    "import numpy as np\n",
    "import pandas as pd\n",
    "from matplotlib import pyplot as plt\n",
    "from pandas.plotting import register_matplotlib_converters\n",
    "register_matplotlib_converters()"
   ]
  },
  {
   "cell_type": "markdown",
   "metadata": {},
   "source": [
    "## 画出训练曲线"
   ]
  },
  {
   "cell_type": "code",
   "execution_count": 52,
   "metadata": {},
   "outputs": [],
   "source": [
    "# df = pd.read_csv('../result/LSTM_result_file.csv')\n",
    "# df = pd.read_csv('../result/ANN_nD.csv')\n",
    "# df = pd.read_csv('../result/one_LSTM_result_file.csv')\n",
    "# df = pd.read_csv('../result/LSTM_1D.csv')\n",
    "df = pd.read_csv('../result/EDLSTM_nD.csv')\n",
    "# df = pd.read_csv('../result/EDLSTM_1D_tf.csv')"
   ]
  },
  {
   "cell_type": "code",
   "execution_count": 53,
   "metadata": {},
   "outputs": [
    {
     "data": {
      "text/html": [
       "<div>\n",
       "<style scoped>\n",
       "    .dataframe tbody tr th:only-of-type {\n",
       "        vertical-align: middle;\n",
       "    }\n",
       "\n",
       "    .dataframe tbody tr th {\n",
       "        vertical-align: top;\n",
       "    }\n",
       "\n",
       "    .dataframe thead th {\n",
       "        text-align: right;\n",
       "    }\n",
       "</style>\n",
       "<table border=\"1\" class=\"dataframe\">\n",
       "  <thead>\n",
       "    <tr style=\"text-align: right;\">\n",
       "      <th></th>\n",
       "      <th>start_time</th>\n",
       "      <th>model_name</th>\n",
       "      <th>model_pkl_path</th>\n",
       "      <th>device</th>\n",
       "      <th>learning_rate</th>\n",
       "      <th>batch size</th>\n",
       "      <th>encoder_sequence_length</th>\n",
       "      <th>decoder_sequence_length</th>\n",
       "      <th>best_train_l1_loss</th>\n",
       "      <th>best_train_mse_loss</th>\n",
       "      <th>best_valid_l1_loss</th>\n",
       "      <th>best_valid_mse_loss</th>\n",
       "      <th>epoch_for_best_valid_loss</th>\n",
       "      <th>train_mse_curve</th>\n",
       "      <th>valid_mse_curve</th>\n",
       "    </tr>\n",
       "  </thead>\n",
       "  <tbody>\n",
       "    <tr>\n",
       "      <td>17</td>\n",
       "      <td>2019-11-04 15:00:50.968529</td>\n",
       "      <td>EDLSTM_nD</td>\n",
       "      <td>../rnn_model/saved_pkl_model/EDLSTM_nD.pkl</td>\n",
       "      <td>cuda:0</td>\n",
       "      <td>0.00003</td>\n",
       "      <td>1.0</td>\n",
       "      <td>40.0</td>\n",
       "      <td>4.0</td>\n",
       "      <td>1000.000000</td>\n",
       "      <td>1000.000000</td>\n",
       "      <td>1000.000000</td>\n",
       "      <td>1000.000000</td>\n",
       "      <td>0.0</td>\n",
       "      <td>[1, 2, 3]</td>\n",
       "      <td>[1, 2, 3]</td>\n",
       "    </tr>\n",
       "    <tr>\n",
       "      <td>18</td>\n",
       "      <td>2019-11-04 17:19:05.459737</td>\n",
       "      <td>EDLSTM_nD</td>\n",
       "      <td>../rnn_model/saved_pkl_model/EDLSTM_nD.pkl</td>\n",
       "      <td>cuda:0</td>\n",
       "      <td>0.00003</td>\n",
       "      <td>32.0</td>\n",
       "      <td>40.0</td>\n",
       "      <td>4.0</td>\n",
       "      <td>0.046246</td>\n",
       "      <td>0.003541</td>\n",
       "      <td>0.061117</td>\n",
       "      <td>0.007377</td>\n",
       "      <td>100.0</td>\n",
       "      <td>[0.07746623757842966, 0.02425477651782243, 0.0...</td>\n",
       "      <td>[0.036683736238902545, 0.02882250730181113, 0....</td>\n",
       "    </tr>\n",
       "    <tr>\n",
       "      <td>19</td>\n",
       "      <td>2019-11-05 11:09:22.734392</td>\n",
       "      <td>EDLSTM_nD</td>\n",
       "      <td>../rnn_model/saved_pkl_model/EDLSTM_nD.pkl</td>\n",
       "      <td>cuda:0</td>\n",
       "      <td>0.00001</td>\n",
       "      <td>32.0</td>\n",
       "      <td>40.0</td>\n",
       "      <td>4.0</td>\n",
       "      <td>0.045690</td>\n",
       "      <td>0.003566</td>\n",
       "      <td>0.072444</td>\n",
       "      <td>0.010042</td>\n",
       "      <td>399.0</td>\n",
       "      <td>[0.13445528359425687, 0.0603620332901924, 0.04...</td>\n",
       "      <td>[0.07002067639875938, 0.05554477503756061, 0.0...</td>\n",
       "    </tr>\n",
       "  </tbody>\n",
       "</table>\n",
       "</div>"
      ],
      "text/plain": [
       "                    start_time model_name  \\\n",
       "17  2019-11-04 15:00:50.968529  EDLSTM_nD   \n",
       "18  2019-11-04 17:19:05.459737  EDLSTM_nD   \n",
       "19  2019-11-05 11:09:22.734392  EDLSTM_nD   \n",
       "\n",
       "                                model_pkl_path  device  learning_rate  \\\n",
       "17  ../rnn_model/saved_pkl_model/EDLSTM_nD.pkl  cuda:0        0.00003   \n",
       "18  ../rnn_model/saved_pkl_model/EDLSTM_nD.pkl  cuda:0        0.00003   \n",
       "19  ../rnn_model/saved_pkl_model/EDLSTM_nD.pkl  cuda:0        0.00001   \n",
       "\n",
       "    batch size  encoder_sequence_length  decoder_sequence_length  \\\n",
       "17         1.0                     40.0                      4.0   \n",
       "18        32.0                     40.0                      4.0   \n",
       "19        32.0                     40.0                      4.0   \n",
       "\n",
       "    best_train_l1_loss  best_train_mse_loss  best_valid_l1_loss  \\\n",
       "17         1000.000000          1000.000000         1000.000000   \n",
       "18            0.046246             0.003541            0.061117   \n",
       "19            0.045690             0.003566            0.072444   \n",
       "\n",
       "    best_valid_mse_loss  epoch_for_best_valid_loss  \\\n",
       "17          1000.000000                        0.0   \n",
       "18             0.007377                      100.0   \n",
       "19             0.010042                      399.0   \n",
       "\n",
       "                                      train_mse_curve  \\\n",
       "17                                          [1, 2, 3]   \n",
       "18  [0.07746623757842966, 0.02425477651782243, 0.0...   \n",
       "19  [0.13445528359425687, 0.0603620332901924, 0.04...   \n",
       "\n",
       "                                      valid_mse_curve  \n",
       "17                                          [1, 2, 3]  \n",
       "18  [0.036683736238902545, 0.02882250730181113, 0....  \n",
       "19  [0.07002067639875938, 0.05554477503756061, 0.0...  "
      ]
     },
     "execution_count": 53,
     "metadata": {},
     "output_type": "execute_result"
    }
   ],
   "source": [
    "df.tail(3)"
   ]
  },
  {
   "cell_type": "code",
   "execution_count": 54,
   "metadata": {},
   "outputs": [],
   "source": [
    "train_curve = df['train_mse_curve'].iloc[-1]\n",
    "valid_curve = df['valid_mse_curve'].iloc[-1]\n",
    "train_curve = list(map(float, train_curve[1: -1].split(',')))\n",
    "valid_curve = list(map(float, valid_curve[1: -1].split(',')))"
   ]
  },
  {
   "cell_type": "code",
   "execution_count": 55,
   "metadata": {},
   "outputs": [
    {
     "data": {
      "image/png": "[encoded data removed]",
      "text/plain": [
       "<Figure size 432x288 with 1 Axes>"
      ]
     },
     "metadata": {},
     "output_type": "display_data"
    }
   ],
   "source": [
    "plt.figure(facecolor='w')\n",
    "plt.plot(np.log(train_curve))\n",
    "plt.plot(np.log(valid_curve))\n",
    "plt.legend(['train', 'valid'])\n",
    "plt.show()"
   ]
  },
  {
   "cell_type": "markdown",
   "metadata": {},
   "source": [
    "## 探究模型效果"
   ]
  },
  {
   "cell_type": "code",
   "execution_count": 56,
   "metadata": {},
   "outputs": [],
   "source": [
    "import sys\n",
    "sys.path.append('..')\n",
    "import torch\n",
    "from datetime import datetime\n",
    "from torch.utils.data import DataLoader\n",
    "from src.py_dataset import GpuDataset\n",
    "from matplotlib import pyplot as plt"
   ]
  },
  {
   "cell_type": "code",
   "execution_count": 58,
   "metadata": {},
   "outputs": [
    {
     "name": "stdout",
     "output_type": "stream",
     "text": [
      "dataset prepared !\n"
     ]
    }
   ],
   "source": [
    "# model = torch.load('../rnn_model/saved_pkl_model/EDLSTM.pkl', map_location='cpu')\n",
    "# model = torch.load('../rnn_model/saved_pkl_model/ANN_nD.pkl', map_location='cpu')\n",
    "# model = torch.load('../rnn_model/saved_pkl_model/one_LSTM.pkl', map_location='cpu')\n",
    "# model = torch.load('../rnn_model/saved_pkl_model/LSTM_1D.pkl', map_location='cpu')\n",
    "model = torch.load('../rnn_model/saved_pkl_model/EDLSTM_nD.pkl', map_location='cpu')\n",
    "# model = torch.load('../rnn_model/saved_pkl_model/EDLSTM_1D_tf.pkl', map_location='cpu')\n",
    "\n",
    "\n",
    "dataset_path = '../Dataset/3bs_8q_4p_dataset_washed.csv'\n",
    "dataset = GpuDataset('valid', dataset_path, 40, 4)\n",
    "dataloader = DataLoader(dataset,\n",
    "                        batch_size=2,\n",
    "                        shuffle=False)\n",
    "data = dataset.data"
   ]
  },
  {
   "cell_type": "code",
   "execution_count": 59,
   "metadata": {},
   "outputs": [
    {
     "data": {
      "text/plain": [
       "EDLSTM_nD(\n",
       "  (encoder): LSTM(37, 64, num_layers=2, batch_first=True)\n",
       "  (decoder_cell): LSTMCell(20, 64)\n",
       "  (out_layer): Linear(in_features=64, out_features=1, bias=True)\n",
       "  (embed_hour): Embedding(24, 5)\n",
       "  (embed_weekday): Embedding(8, 3)\n",
       "  (embed_month): Embedding(13, 4)\n",
       "  (embed_weekofyear): Embedding(54, 7)\n",
       "  (Tanh): Tanh()\n",
       ")"
      ]
     },
     "execution_count": 59,
     "metadata": {},
     "output_type": "execute_result"
    }
   ],
   "source": [
    "model"
   ]
  },
  {
   "cell_type": "code",
   "execution_count": 60,
   "metadata": {},
   "outputs": [
    {
     "data": {
      "text/plain": [
       "count    4493.000000\n",
       "mean        0.402748\n",
       "std         0.265059\n",
       "min         0.000000\n",
       "25%         0.119617\n",
       "50%         0.468900\n",
       "75%         0.612440\n",
       "max         1.000000\n",
       "Name: out_pressure, dtype: float64"
      ]
     },
     "execution_count": 60,
     "metadata": {},
     "output_type": "execute_result"
    }
   ],
   "source": [
    "data['out_pressure'].describe()"
   ]
  },
  {
   "cell_type": "code",
   "execution_count": 61,
   "metadata": {},
   "outputs": [],
   "source": [
    "output_list = []\n",
    "for i, (input_p, input_time, label_p, decoder_time) in enumerate(dataloader):\n",
    "#     print(\\r, i, end='')\n",
    "    outputs_p = model(input_p, input_time, label_p, decoder_time)  # torch.Size([64, 10, 9])\n",
    "#     outputs_p = model(input_p, input_time)\n",
    "    output_list += [outputs_p[0, -1].detach().numpy(),\n",
    "                    outputs_p[1, -1].detach().numpy()]\n",
    "    if i > 2100:\n",
    "        break\n",
    "\n",
    "# # 多步预测\n",
    "# output_list = []\n",
    "# output_list_30min = []\n",
    "# label_list = []\n",
    "# for i, (input_p_q, input_time, label_p, decoder_time) in enumerate(dataloader):\n",
    "#     label_list += [label_p[:,43]]\n",
    "#     for j in range(0, 4):\n",
    "#         outputs_p = model(input_p_q, input_time, label_p, decoder_time)  # torch.Size([64, 10, 9])\n",
    "#         label_p[:, 0:39] = label_p[:,1:40]\n",
    "#         label_p[:, 39] = outputs_p.squeeze(2)[:,-1]\n",
    "#         if j == 0:\n",
    "#             output_list_30min += [outputs_p[0, -1, :].detach().numpy()]    \n",
    "#         if j == 3:\n",
    "#             output_list += [outputs_p[0, -1, :].detach().numpy()]\n",
    "# #     if i > 1500:\n",
    "# #         break"
   ]
  },
  {
   "cell_type": "code",
   "execution_count": 62,
   "metadata": {},
   "outputs": [
    {
     "name": "stderr",
     "output_type": "stream",
     "text": [
      "G:\\Anaconda\\envs\\pytorch_env\\lib\\site-packages\\pandas\\core\\indexing.py:205: SettingWithCopyWarning: \n",
      "A value is trying to be set on a copy of a slice from a DataFrame\n",
      "\n",
      "See the caveats in the documentation: http://pandas.pydata.org/pandas-docs/stable/user_guide/indexing.html#returning-a-view-versus-a-copy\n",
      "  self._setitem_with_indexer(indexer, value)\n"
     ]
    }
   ],
   "source": [
    "data['out_pressure_pred'] = 0\n",
    "data['out_pressure_pred'].iloc[:len(output_list)] = output_list\n",
    "data['out_pressure_pred'] = data['out_pressure_pred'].copy().shift(40+4)\n",
    "# data['datetime'] = data['datetime'].apply(str_to_datetime)"
   ]
  },
  {
   "cell_type": "code",
   "execution_count": 63,
   "metadata": {},
   "outputs": [
    {
     "data": {
      "text/plain": [
       "4204"
      ]
     },
     "execution_count": 63,
     "metadata": {},
     "output_type": "execute_result"
    }
   ],
   "source": [
    "len(output_list)"
   ]
  },
  {
   "cell_type": "code",
   "execution_count": 64,
   "metadata": {},
   "outputs": [
    {
     "data": {
      "text/plain": [
       "(4493, 28)"
      ]
     },
     "execution_count": 64,
     "metadata": {},
     "output_type": "execute_result"
    }
   ],
   "source": [
    "data.shape"
   ]
  },
  {
   "cell_type": "code",
   "execution_count": 65,
   "metadata": {},
   "outputs": [
    {
     "data": {
      "text/plain": [
       "torch.Size([2, 4, 1])"
      ]
     },
     "execution_count": 65,
     "metadata": {},
     "output_type": "execute_result"
    }
   ],
   "source": [
    "outputs_p.shape"
   ]
  },
  {
   "cell_type": "code",
   "execution_count": 66,
   "metadata": {},
   "outputs": [
    {
     "name": "stdout",
     "output_type": "stream",
     "text": [
      "../result/figures/EDLSTM_nD.png\n",
      "fig_rewrited !\n"
     ]
    },
    {
     "data": {
      "image/png": "[encoded data removed]",
      "text/plain": [
       "<Figure size 1080x216 with 1 Axes>"
      ]
     },
     "metadata": {},
     "output_type": "display_data"
    }
   ],
   "source": [
    "plt.figure(figsize=(15,3), facecolor='w')\n",
    "plt.plot(data['datetime'], data['out_pressure'])\n",
    "plt.plot(data['datetime'], data['out_pressure_pred'])\n",
    "plt.xlim([datetime(2019,1,1), datetime(2019, 1, 10)])\n",
    "fig_path = '../result/figures/' + model.model_name + '.png'\n",
    "print(fig_path)\n",
    "if not os.path.exists(fig_path):\n",
    "    plt.savefig(fig_path, format='png',dpi=1000)\n",
    "    print('fig_svaed !')\n",
    "else:\n",
    "    plt.savefig(fig_path, format='png',dpi=1000)\n",
    "    print('fig_rewrited !')\n",
    "plt.legend(['true', 'pred'])\n",
    "plt.show()"
   ]
  },
  {
   "cell_type": "code",
   "execution_count": 67,
   "metadata": {},
   "outputs": [
    {
     "name": "stderr",
     "output_type": "stream",
     "text": [
      "G:\\Anaconda\\envs\\pytorch_env\\lib\\site-packages\\ipykernel_launcher.py:8: RuntimeWarning: divide by zero encountered in true_divide\n",
      "  \n"
     ]
    }
   ],
   "source": [
    "from sklearn import metrics\n",
    "import numpy as np\n",
    "from sklearn import preprocessing\n",
    "def eval_metrics(y_true, y_pred):\n",
    "    metrics_dict = dict()\n",
    "    metrics_dict['MAE'] = metrics.mean_absolute_error(y_true, y_pred)\n",
    "    metrics_dict['MSE'] = metrics.mean_squared_error(y_true, y_pred)\n",
    "    metrics_dict['MAPE'] = np.mean(np.true_divide(np.abs(y_true-y_pred), y_true))\n",
    "    return metrics_dict\n",
    "y_pred = data['out_pressure_pred'].iloc[48:].values\n",
    "y_true = data['out_pressure'].iloc[48:].values \n",
    "eval_dict = eval_metrics(y_true, y_pred)"
   ]
  },
  {
   "cell_type": "code",
   "execution_count": 68,
   "metadata": {},
   "outputs": [
    {
     "data": {
      "text/plain": [
       "{'MAE': 0.10192420014506152, 'MSE': 0.0295234483890389, 'MAPE': inf}"
      ]
     },
     "execution_count": 68,
     "metadata": {},
     "output_type": "execute_result"
    }
   ],
   "source": [
    "eval_dict"
   ]
  },
  {
   "cell_type": "code",
   "execution_count": null,
   "metadata": {},
   "outputs": [],
   "source": []
  }
 ],
 "metadata": {
  "kernelspec": {
   "display_name": "Python 3",
   "language": "python",
   "name": "python3"
  },
  "language_info": {
   "codemirror_mode": {
    "name": "ipython",
    "version": 3
   },
   "file_extension": ".py",
   "mimetype": "text/x-python",
   "name": "python",
   "nbconvert_exporter": "python",
   "pygments_lexer": "ipython3",
   "version": "3.7.3"
  }
 },
 "nbformat": 4,
 "nbformat_minor": 2
}
